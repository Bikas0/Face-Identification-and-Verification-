{
 "cells": [
  {
   "cell_type": "code",
   "execution_count": 1,
   "id": "6cf570dd",
   "metadata": {},
   "outputs": [
    {
     "name": "stdout",
     "output_type": "stream",
     "text": [
      "WARNING:tensorflow:From C:\\Users\\HP\\anaconda3\\Lib\\site-packages\\keras\\src\\losses.py:2976: The name tf.losses.sparse_softmax_cross_entropy is deprecated. Please use tf.compat.v1.losses.sparse_softmax_cross_entropy instead.\n",
      "\n"
     ]
    }
   ],
   "source": [
    "import os\n",
    "import cv2\n",
    "import pickle\n",
    "import tensorflow\n",
    "import numpy as np\n",
    "from tqdm import tqdm\n",
    "from PIL import Image\n",
    "from mtcnn import MTCNN\n",
    "from tensorflow import keras\n",
    "from matplotlib import pyplot\n",
    "import matplotlib.pyplot as plt\n",
    "from tensorflow.keras.preprocessing import image\n",
    "from sklearn.metrics.pairwise import cosine_similarity"
   ]
  },
  {
   "cell_type": "code",
   "execution_count": 2,
   "id": "93977b29",
   "metadata": {},
   "outputs": [
    {
     "ename": "FileNotFoundError",
     "evalue": "[WinError 3] The system cannot find the path specified: 'NewTestFaceExtract'",
     "output_type": "error",
     "traceback": [
      "\u001b[1;31m---------------------------------------------------------------------------\u001b[0m",
      "\u001b[1;31mFileNotFoundError\u001b[0m                         Traceback (most recent call last)",
      "Cell \u001b[1;32mIn[2], line 2\u001b[0m\n\u001b[0;32m      1\u001b[0m \u001b[38;5;66;03m# combine all the file path into one list \u001b[39;00m\n\u001b[1;32m----> 2\u001b[0m person_file_names \u001b[38;5;241m=\u001b[39m os\u001b[38;5;241m.\u001b[39mlistdir(\u001b[38;5;124m'\u001b[39m\u001b[38;5;124mNewTestFaceExtract\u001b[39m\u001b[38;5;124m'\u001b[39m)\n\u001b[0;32m      3\u001b[0m filenames \u001b[38;5;241m=\u001b[39m []\n\u001b[0;32m      4\u001b[0m \u001b[38;5;28;01mfor\u001b[39;00m person_file_name \u001b[38;5;129;01min\u001b[39;00m person_file_names:\n",
      "\u001b[1;31mFileNotFoundError\u001b[0m: [WinError 3] The system cannot find the path specified: 'NewTestFaceExtract'"
     ]
    }
   ],
   "source": [
    "# combine all the file path into one list \n",
    "person_file_names = os.listdir('NewTestFaceExtract')\n",
    "filenames = []\n",
    "for person_file_name in person_file_names:\n",
    "    filenames.append(person_file_name)\n",
    "pickle.dump(filenames,open('FinalFilenames.pkl','wb'))"
   ]
  },
  {
   "cell_type": "code",
   "execution_count": null,
   "id": "f21d7a42",
   "metadata": {},
   "outputs": [],
   "source": [
    "model = pickle.load(open(os.path.join(\"PickleFile\",'VGGFaceModel.pkl'),'rb'))\n",
    "loaded_images = pickle.load(open(os.path.join(\"PickleFile\",'FinalFullPictureDataset.pkl'),'rb'))"
   ]
  },
  {
   "cell_type": "code",
   "execution_count": null,
   "id": "6cb274ac",
   "metadata": {},
   "outputs": [],
   "source": [
    "def feature_extractor(img_path,model):\n",
    "    img = image.load_img(os.path.join('NewTestFaceExtract',img_path),target_size=(224,224))\n",
    "    img_array = image.img_to_array(img)\n",
    "    expanded_img = np.expand_dims(img_array,axis=0)\n",
    "    preprocessed_img = keras.applications.efficientnet.preprocess_input(expanded_img)\n",
    "    result = model.predict(preprocessed_img).flatten()\n",
    "\n",
    "    return result"
   ]
  },
  {
   "cell_type": "code",
   "execution_count": null,
   "id": "ab0d8a6f",
   "metadata": {
    "scrolled": true
   },
   "outputs": [],
   "source": [
    "features = []\n",
    "for file in tqdm(filenames):\n",
    "    features.append(feature_extractor(file,model))"
   ]
  },
  {
   "cell_type": "code",
   "execution_count": 8,
   "id": "47e7c087",
   "metadata": {},
   "outputs": [],
   "source": [
    "pickle.dump(features,open('FeatureEmbeddings.pkl','wb'))"
   ]
  },
  {
   "cell_type": "code",
   "execution_count": 10,
   "id": "c0c6596a",
   "metadata": {},
   "outputs": [],
   "source": [
    "feature_list = np.array(pickle.load(open(os.path.join(\"PickleFile\",'FeatureEmbeddings.pkl'),'rb')))\n",
    "filenames = pickle.load(open(os.path.join(\"PickleFile\",'FinalFilenames.pkl'),'rb'))"
   ]
  },
  {
   "cell_type": "code",
   "execution_count": 11,
   "id": "c24ce6df",
   "metadata": {},
   "outputs": [
    {
     "name": "stdout",
     "output_type": "stream",
     "text": [
      "10164 10164\n"
     ]
    }
   ],
   "source": [
    "print(len(feature_list), len(filenames))"
   ]
  },
  {
   "cell_type": "code",
   "execution_count": 1,
   "id": "7bd05442",
   "metadata": {},
   "outputs": [],
   "source": [
    "# Welcome"
   ]
  },
  {
   "cell_type": "code",
   "execution_count": null,
   "id": "526ebd39",
   "metadata": {},
   "outputs": [],
   "source": []
  }
 ],
 "metadata": {
  "kernelspec": {
   "display_name": "Python 3 (ipykernel)",
   "language": "python",
   "name": "python3"
  },
  "language_info": {
   "codemirror_mode": {
    "name": "ipython",
    "version": 3
   },
   "file_extension": ".py",
   "mimetype": "text/x-python",
   "name": "python",
   "nbconvert_exporter": "python",
   "pygments_lexer": "ipython3",
   "version": "3.11.5"
  }
 },
 "nbformat": 4,
 "nbformat_minor": 5
}
