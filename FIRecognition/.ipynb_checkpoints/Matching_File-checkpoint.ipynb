{
 "cells": [
  {
   "cell_type": "code",
   "execution_count": 1,
   "id": "c677617f",
   "metadata": {},
   "outputs": [
    {
     "ename": "FileNotFoundError",
     "evalue": "[WinError 3] The system cannot find the path specified: 'image/image'",
     "output_type": "error",
     "traceback": [
      "\u001b[1;31m---------------------------------------------------------------------------\u001b[0m",
      "\u001b[1;31mFileNotFoundError\u001b[0m                         Traceback (most recent call last)",
      "Cell \u001b[1;32mIn[1], line 35\u001b[0m\n\u001b[0;32m     32\u001b[0m source_folder2 \u001b[38;5;241m=\u001b[39m \u001b[38;5;124m'\u001b[39m\u001b[38;5;124mNewTestFaceExtract\u001b[39m\u001b[38;5;124m'\u001b[39m\n\u001b[0;32m     33\u001b[0m destination_folder \u001b[38;5;241m=\u001b[39m \u001b[38;5;124m'\u001b[39m\u001b[38;5;124mFinalFolder\u001b[39m\u001b[38;5;124m'\u001b[39m\n\u001b[1;32m---> 35\u001b[0m filter_and_copy_images(source_folder1, source_folder2, destination_folder)\n",
      "Cell \u001b[1;32mIn[1], line 6\u001b[0m, in \u001b[0;36mfilter_and_copy_images\u001b[1;34m(source_folder1, source_folder2, destination_folder)\u001b[0m\n\u001b[0;32m      4\u001b[0m \u001b[38;5;28;01mdef\u001b[39;00m \u001b[38;5;21mfilter_and_copy_images\u001b[39m(source_folder1, source_folder2, destination_folder):\n\u001b[0;32m      5\u001b[0m     \u001b[38;5;66;03m# Get the list of files in each source folder\u001b[39;00m\n\u001b[1;32m----> 6\u001b[0m     files1 \u001b[38;5;241m=\u001b[39m os\u001b[38;5;241m.\u001b[39mlistdir(source_folder1)\n\u001b[0;32m      7\u001b[0m     files2 \u001b[38;5;241m=\u001b[39m os\u001b[38;5;241m.\u001b[39mlistdir(source_folder2)\n\u001b[0;32m      9\u001b[0m     \u001b[38;5;66;03m# Find common file names (matching files)\u001b[39;00m\n",
      "\u001b[1;31mFileNotFoundError\u001b[0m: [WinError 3] The system cannot find the path specified: 'image/image'"
     ]
    }
   ],
   "source": [
    "import os\n",
    "import shutil\n",
    "\n",
    "def filter_and_copy_images(source_folder1, source_folder2, destination_folder):\n",
    "    # Get the list of files in each source folder\n",
    "    files1 = os.listdir(source_folder1)\n",
    "    files2 = os.listdir(source_folder2)\n",
    "\n",
    "    # Find common file names (matching files)\n",
    "    common_files = set(files1) & set(files2)\n",
    "\n",
    "    # Create the destination folder if it doesn't exist\n",
    "    if not os.path.exists(destination_folder):\n",
    "        os.makedirs(destination_folder)\n",
    "\n",
    "    # Copy matching files to the destination folder\n",
    "    for common_file in common_files:\n",
    "        source_path1 = os.path.join(source_folder1, common_file)\n",
    "        source_path2 = os.path.join(source_folder2, common_file)\n",
    "        destination_path = os.path.join(destination_folder, common_file)\n",
    "\n",
    "        shutil.copy2(source_path1, destination_path)  # Use shutil.copy for copying\n",
    "\n",
    "        # If you want to move instead of copy, uncomment the line below:\n",
    "        # shutil.move(source_path1, destination_path)\n",
    "\n",
    "        # Print the files being copied (optional)\n",
    "        print(f\"Copied: {common_file}\")\n",
    "\n",
    "# Example usage\n",
    "source_folder1 = 'image/image'\n",
    "source_folder2 = 'NewTestFaceExtract'\n",
    "destination_folder = 'FinalFolder'\n",
    "\n",
    "filter_and_copy_images(source_folder1, source_folder2, destination_folder)\n"
   ]
  },
  {
   "cell_type": "code",
   "execution_count": 2,
   "id": "81376660",
   "metadata": {},
   "outputs": [
    {
     "ename": "FileNotFoundError",
     "evalue": "[WinError 3] The system cannot find the path specified: 'FinalFolder'",
     "output_type": "error",
     "traceback": [
      "\u001b[1;31m---------------------------------------------------------------------------\u001b[0m",
      "\u001b[1;31mFileNotFoundError\u001b[0m                         Traceback (most recent call last)",
      "Cell \u001b[1;32mIn[2], line 8\u001b[0m\n\u001b[0;32m      5\u001b[0m \u001b[38;5;66;03m# List to store images\u001b[39;00m\n\u001b[0;32m      6\u001b[0m images \u001b[38;5;241m=\u001b[39m []\n\u001b[1;32m----> 8\u001b[0m \u001b[38;5;28;01mfor\u001b[39;00m path \u001b[38;5;129;01min\u001b[39;00m os\u001b[38;5;241m.\u001b[39mlistdir(\u001b[38;5;124m\"\u001b[39m\u001b[38;5;124mFinalFolder\u001b[39m\u001b[38;5;124m\"\u001b[39m):\n\u001b[0;32m      9\u001b[0m     img \u001b[38;5;241m=\u001b[39m cv2\u001b[38;5;241m.\u001b[39mimread(os\u001b[38;5;241m.\u001b[39mpath\u001b[38;5;241m.\u001b[39mjoin(\u001b[38;5;124m\"\u001b[39m\u001b[38;5;124mFinalFolder\u001b[39m\u001b[38;5;124m\"\u001b[39m, path))\n\u001b[0;32m     10\u001b[0m     images\u001b[38;5;241m.\u001b[39mappend(img)\n",
      "\u001b[1;31mFileNotFoundError\u001b[0m: [WinError 3] The system cannot find the path specified: 'FinalFolder'"
     ]
    }
   ],
   "source": [
    "import cv2\n",
    "import pickle\n",
    "import os\n",
    "\n",
    "# List to store images\n",
    "images = []\n",
    "\n",
    "for path in os.listdir(\"FinalFolder\"):\n",
    "    img = cv2.imread(os.path.join(\"FinalFolder\", path))\n",
    "    images.append(img)\n",
    "\n",
    "    \n",
    "pickle.dump(images,open('FinalFullPictureDataset.pkl','wb'))"
   ]
  },
  {
   "cell_type": "code",
   "execution_count": null,
   "id": "ffadc553",
   "metadata": {},
   "outputs": [],
   "source": []
  }
 ],
 "metadata": {
  "kernelspec": {
   "display_name": "Python 3 (ipykernel)",
   "language": "python",
   "name": "python3"
  },
  "language_info": {
   "codemirror_mode": {
    "name": "ipython",
    "version": 3
   },
   "file_extension": ".py",
   "mimetype": "text/x-python",
   "name": "python",
   "nbconvert_exporter": "python",
   "pygments_lexer": "ipython3",
   "version": "3.11.5"
  }
 },
 "nbformat": 4,
 "nbformat_minor": 5
}
