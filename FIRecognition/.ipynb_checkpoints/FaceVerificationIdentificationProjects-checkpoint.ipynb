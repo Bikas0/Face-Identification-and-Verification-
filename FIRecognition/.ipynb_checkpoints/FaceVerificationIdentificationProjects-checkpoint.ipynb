{
 "cells": [
  {
   "cell_type": "code",
   "execution_count": 1,
   "id": "6fa378d2",
   "metadata": {},
   "outputs": [
    {
     "name": "stdout",
     "output_type": "stream",
     "text": [
      "WARNING:tensorflow:From C:\\Users\\HP\\anaconda3\\Lib\\site-packages\\keras\\src\\losses.py:2976: The name tf.losses.sparse_softmax_cross_entropy is deprecated. Please use tf.compat.v1.losses.sparse_softmax_cross_entropy instead.\n",
      "\n"
     ]
    }
   ],
   "source": [
    "import os\n",
    "import cv2\n",
    "import pickle\n",
    "# import tensorflow\n",
    "import numpy as np\n",
    "# from tqdm import tqdm\n",
    "from PIL import Image\n",
    "from mtcnn import MTCNN\n",
    "from tensorflow import keras\n",
    "# from matplotlib import pyplot\n",
    "import matplotlib.pyplot as plt\n",
    "from tensorflow.keras.preprocessing import image\n",
    "from sklearn.metrics.pairwise import cosine_similarity\n"
   ]
  },
  {
   "cell_type": "code",
   "execution_count": 2,
   "id": "bd2c0270",
   "metadata": {},
   "outputs": [
    {
     "name": "stdout",
     "output_type": "stream",
     "text": [
      "WARNING:tensorflow:From C:\\Users\\HP\\anaconda3\\Lib\\site-packages\\keras\\src\\backend.py:1398: The name tf.executing_eagerly_outside_functions is deprecated. Please use tf.compat.v1.executing_eagerly_outside_functions instead.\n",
      "\n",
      "WARNING:tensorflow:From C:\\Users\\HP\\anaconda3\\Lib\\site-packages\\keras\\src\\layers\\pooling\\max_pooling2d.py:161: The name tf.nn.max_pool is deprecated. Please use tf.nn.max_pool2d instead.\n",
      "\n"
     ]
    }
   ],
   "source": [
    "model = pickle.load(open(os.path.join(\"PickleFile\",'VGGFaceModel.pkl'),'rb'))\n",
    "imageDataset = pickle.load(open(os.path.join(\"PickleFile\",'FinalFullPictureDataset.pkl'),'rb'))\n",
    "feature_list = np.array(pickle.load(open(os.path.join(\"PickleFile\",'FeatureEmbeddings.pkl'),'rb')))\n",
    "filenames = pickle.load(open(os.path.join(\"PickleFile\",'FinalFilenames.pkl'),'rb'))"
   ]
  },
  {
   "cell_type": "code",
   "execution_count": 3,
   "id": "13f0379b",
   "metadata": {},
   "outputs": [
    {
     "name": "stdout",
     "output_type": "stream",
     "text": [
      "10164\n"
     ]
    }
   ],
   "source": [
    "print(len(filenames))"
   ]
  },
  {
   "cell_type": "code",
   "execution_count": 4,
   "id": "05679869",
   "metadata": {},
   "outputs": [
    {
     "name": "stdout",
     "output_type": "stream",
     "text": [
      "10164\n"
     ]
    }
   ],
   "source": [
    "print(len(feature_list))"
   ]
  },
  {
   "cell_type": "code",
   "execution_count": 5,
   "id": "fb7b3028",
   "metadata": {},
   "outputs": [
    {
     "name": "stdout",
     "output_type": "stream",
     "text": [
      "10164\n"
     ]
    }
   ],
   "source": [
    "print(len(imageDataset))"
   ]
  },
  {
   "cell_type": "code",
   "execution_count": 3,
   "id": "87770ba1",
   "metadata": {},
   "outputs": [],
   "source": [
    "detector = MTCNN()"
   ]
  },
  {
   "cell_type": "code",
   "execution_count": 2,
   "id": "68cad952",
   "metadata": {},
   "outputs": [],
   "source": [
    "def upload_img(img_path):\n",
    "    sample_img = cv2.imread(img_path)\n",
    "    results = detector.detect_faces(sample_img)\n",
    "    if results==[]:\n",
    "        print(\"Face not Detected\")\n",
    "    else:\n",
    "        x,y,width,height = results[0]['box']\n",
    "        face = sample_img[y:y+height,x:x+width]\n",
    "        #  extract its features\n",
    "        image = Image.fromarray(face)\n",
    "        image = image.resize((224,224))\n",
    "        face_array = np.asarray(image)\n",
    "        face_array = face_array.astype('float32')\n",
    "        expanded_img = np.expand_dims(face_array,axis=0)\n",
    "        preprocessed_img = keras.applications.efficientnet.preprocess_input(expanded_img)\n",
    "        result = model.predict(preprocessed_img).flatten()\n",
    "    \n",
    "        # find the cosine distance of uploded image with all the image feature list\n",
    "        similarity = []\n",
    "        for i in range(len(feature_list)):\n",
    "            similarity.append(cosine_similarity(result.reshape(1,-1),feature_list[i].reshape(1,-1))[0][0])\n",
    "        if np.max(similarity) >=0.70:\n",
    "            index_positions = sorted(list(enumerate(similarity)),reverse=True,key=lambda x:x[1])\n",
    "            positions = []\n",
    "            for pos in index_positions:\n",
    "                positions.append(list(pos)[0])\n",
    "            \n",
    "            predicted_imgs = []\n",
    "            for pos in positions[:1]:\n",
    "                predicted_imgs.append(cv2.imread(filenames[pos]))\n",
    "            n = 0\n",
    "            for img in predicted_imgs:\n",
    "                image_rgb = cv2.cvtColor(imageDataset[positions[n]], cv2.COLOR_BGR2RGB)\n",
    "                plt.imshow(image_rgb)\n",
    "                plt.axis('off')\n",
    "                print(\"PassPort Number: \", filenames[positions[n]]) #.split('.')[0])\n",
    "        else:\n",
    "            print(\"Unknown\")"
   ]
  },
  {
   "cell_type": "code",
   "execution_count": 3,
   "id": "4cc392e2",
   "metadata": {},
   "outputs": [
    {
     "ename": "NameError",
     "evalue": "name 'cv2' is not defined",
     "output_type": "error",
     "traceback": [
      "\u001b[1;31m---------------------------------------------------------------------------\u001b[0m",
      "\u001b[1;31mNameError\u001b[0m                                 Traceback (most recent call last)",
      "Cell \u001b[1;32mIn[3], line 2\u001b[0m\n\u001b[0;32m      1\u001b[0m \u001b[38;5;66;03m#call the function\u001b[39;00m\n\u001b[1;32m----> 2\u001b[0m upload_img(\u001b[38;5;124m\"\u001b[39m\u001b[38;5;124mBhaiya6.jpeg\u001b[39m\u001b[38;5;124m\"\u001b[39m)\n",
      "Cell \u001b[1;32mIn[2], line 2\u001b[0m, in \u001b[0;36mupload_img\u001b[1;34m(img_path)\u001b[0m\n\u001b[0;32m      1\u001b[0m \u001b[38;5;28;01mdef\u001b[39;00m \u001b[38;5;21mupload_img\u001b[39m(img_path):\n\u001b[1;32m----> 2\u001b[0m     sample_img \u001b[38;5;241m=\u001b[39m cv2\u001b[38;5;241m.\u001b[39mimread(img_path)\n\u001b[0;32m      3\u001b[0m     results \u001b[38;5;241m=\u001b[39m detector\u001b[38;5;241m.\u001b[39mdetect_faces(sample_img)\n\u001b[0;32m      4\u001b[0m     \u001b[38;5;28;01mif\u001b[39;00m results\u001b[38;5;241m==\u001b[39m[]:\n",
      "\u001b[1;31mNameError\u001b[0m: name 'cv2' is not defined"
     ]
    }
   ],
   "source": [
    "#call the function\n",
    "upload_img(\"Bhaiya6.jpeg\")"
   ]
  },
  {
   "cell_type": "code",
   "execution_count": null,
   "id": "bafa8a13",
   "metadata": {},
   "outputs": [],
   "source": []
  }
 ],
 "metadata": {
  "kernelspec": {
   "display_name": "Python 3 (ipykernel)",
   "language": "python",
   "name": "python3"
  },
  "language_info": {
   "codemirror_mode": {
    "name": "ipython",
    "version": 3
   },
   "file_extension": ".py",
   "mimetype": "text/x-python",
   "name": "python",
   "nbconvert_exporter": "python",
   "pygments_lexer": "ipython3",
   "version": "3.11.5"
  }
 },
 "nbformat": 4,
 "nbformat_minor": 5
}
