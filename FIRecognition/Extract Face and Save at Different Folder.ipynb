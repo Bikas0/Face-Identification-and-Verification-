{
 "cells": [
  {
   "cell_type": "code",
   "execution_count": 1,
   "id": "b360a3cd",
   "metadata": {},
   "outputs": [
    {
     "name": "stdout",
     "output_type": "stream",
     "text": [
      "WARNING:tensorflow:From C:\\Users\\HP\\anaconda3\\Lib\\site-packages\\keras\\src\\losses.py:2976: The name tf.losses.sparse_softmax_cross_entropy is deprecated. Please use tf.compat.v1.losses.sparse_softmax_cross_entropy instead.\n",
      "\n",
      "WARNING:tensorflow:From C:\\Users\\HP\\anaconda3\\Lib\\site-packages\\keras\\src\\backend.py:1398: The name tf.executing_eagerly_outside_functions is deprecated. Please use tf.compat.v1.executing_eagerly_outside_functions instead.\n",
      "\n",
      "WARNING:tensorflow:From C:\\Users\\HP\\anaconda3\\Lib\\site-packages\\keras\\src\\layers\\pooling\\max_pooling2d.py:161: The name tf.nn.max_pool is deprecated. Please use tf.nn.max_pool2d instead.\n",
      "\n"
     ]
    },
    {
     "ename": "FileNotFoundError",
     "evalue": "[WinError 3] The system cannot find the path specified: 'company_image'",
     "output_type": "error",
     "traceback": [
      "\u001b[1;31m---------------------------------------------------------------------------\u001b[0m",
      "\u001b[1;31mFileNotFoundError\u001b[0m                         Traceback (most recent call last)",
      "Cell \u001b[1;32mIn[1], line 56\u001b[0m\n\u001b[0;32m     53\u001b[0m output_folder \u001b[38;5;241m=\u001b[39m \u001b[38;5;124m\"\u001b[39m\u001b[38;5;124mCompanyBWImage\u001b[39m\u001b[38;5;124m\"\u001b[39m\n\u001b[0;32m     55\u001b[0m \u001b[38;5;66;03m# Call the function to extract faces using MTCNN\u001b[39;00m\n\u001b[1;32m---> 56\u001b[0m extract_faces_mtcnn(input_folder, output_folder)\n",
      "Cell \u001b[1;32mIn[1], line 15\u001b[0m, in \u001b[0;36mextract_faces_mtcnn\u001b[1;34m(input_folder, output_folder, required_size)\u001b[0m\n\u001b[0;32m     13\u001b[0m     os\u001b[38;5;241m.\u001b[39mmakedirs(output_folder)\n\u001b[0;32m     14\u001b[0m \u001b[38;5;66;03m# Loop through each file in the input folder\u001b[39;00m\n\u001b[1;32m---> 15\u001b[0m \u001b[38;5;28;01mfor\u001b[39;00m filename \u001b[38;5;129;01min\u001b[39;00m os\u001b[38;5;241m.\u001b[39mlistdir(input_folder):\n\u001b[0;32m     16\u001b[0m     \u001b[38;5;66;03m# Read the image\u001b[39;00m\n\u001b[0;32m     17\u001b[0m     \u001b[38;5;28mprint\u001b[39m(filename)\n\u001b[0;32m     18\u001b[0m     img_path \u001b[38;5;241m=\u001b[39m os\u001b[38;5;241m.\u001b[39mpath\u001b[38;5;241m.\u001b[39mjoin(input_folder, filename)\n",
      "\u001b[1;31mFileNotFoundError\u001b[0m: [WinError 3] The system cannot find the path specified: 'company_image'"
     ]
    }
   ],
   "source": [
    "import os\n",
    "import cv2\n",
    "from PIL import Image\n",
    "from mtcnn import MTCNN\n",
    "from numpy import asarray\n",
    "\n",
    "\n",
    "def extract_faces_mtcnn(input_folder, output_folder, required_size = (224,224)):\n",
    "    # Create the MTCNN face detector\n",
    "    detector = MTCNN()\n",
    "    # Create the output folder if it doesn't exist\n",
    "    if not os.path.exists(output_folder):\n",
    "        os.makedirs(output_folder)\n",
    "    # Loop through each file in the input folder\n",
    "    for filename in os.listdir(input_folder):\n",
    "        # Read the image\n",
    "        print(filename)\n",
    "        img_path = os.path.join(input_folder, filename)\n",
    "        img = cv2.imread(img_path, cv2.IMREAD_GRAYSCALE)\n",
    "#         new_dimensions = (244, 244)\n",
    "#         # Resize the image\n",
    "#         image = cv2.resize(img, new_dimensions)\n",
    "        # Apply CLAHE\n",
    "        clahe = cv2.createCLAHE(clipLimit=2.0, tileGridSize=(8, 8))\n",
    "        clahe_image = clahe.apply(img)\n",
    "        ConvertedImage = cv2.cvtColor(clahe_image, cv2.COLOR_GRAY2BGR)\n",
    "        # Detect faces in the image using MTCNN\n",
    "        faces = detector.detect_faces(ConvertedImage)\n",
    "        if faces==None:\n",
    "            continue\n",
    "        else:\n",
    "            # Loop through each detected face\n",
    "            for i, face_info in enumerate(faces):\n",
    "                x, y, w, h = face_info['box']\n",
    "                x, y = max(x, 0), max(y, 0)  # Ensure coordinates are non-negative\n",
    "                face = img[y:y+h, x:x+w]\n",
    "                # resize pixels to the model size\n",
    "                image = Image.fromarray(face)\n",
    "                image = image.resize(required_size)\n",
    "                face_array = asarray(image)\n",
    "                face_filename = f\"{filename}\"\n",
    "                print(face_filename)\n",
    "                # Save the face in the output folder\n",
    "                output_path = os.path.join(output_folder, face_filename)\n",
    "                print(output_path)\n",
    "                print(\"-----------------\")\n",
    "                cv2.imwrite(output_path, face_array)\n",
    "    print(\"Face extraction complete.\")\n",
    "\n",
    "    \n",
    "# Specify the input and output folders\n",
    "input_folder = \"company_image\"\n",
    "output_folder = \"CompanyBWImage\"\n",
    "\n",
    "# Call the function to extract faces using MTCNN\n",
    "extract_faces_mtcnn(input_folder, output_folder)"
   ]
  },
  {
   "cell_type": "code",
   "execution_count": null,
   "id": "eb673900",
   "metadata": {},
   "outputs": [],
   "source": []
  },
  {
   "cell_type": "code",
   "execution_count": null,
   "id": "42463a00",
   "metadata": {},
   "outputs": [],
   "source": []
  }
 ],
 "metadata": {
  "kernelspec": {
   "display_name": "Python 3 (ipykernel)",
   "language": "python",
   "name": "python3"
  },
  "language_info": {
   "codemirror_mode": {
    "name": "ipython",
    "version": 3
   },
   "file_extension": ".py",
   "mimetype": "text/x-python",
   "name": "python",
   "nbconvert_exporter": "python",
   "pygments_lexer": "ipython3",
   "version": "3.11.5"
  }
 },
 "nbformat": 4,
 "nbformat_minor": 5
}
